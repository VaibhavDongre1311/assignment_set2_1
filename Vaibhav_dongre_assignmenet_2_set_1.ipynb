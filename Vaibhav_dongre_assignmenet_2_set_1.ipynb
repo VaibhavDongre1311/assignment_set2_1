{
  "nbformat": 4,
  "nbformat_minor": 0,
  "metadata": {
    "colab": {
      "provenance": []
    },
    "kernelspec": {
      "name": "python3",
      "display_name": "Python 3"
    },
    "language_info": {
      "name": "python"
    }
  },
  "cells": [
    {
      "cell_type": "code",
      "source": [],
      "metadata": {
        "id": "LostKssBgMQC"
      },
      "execution_count": null,
      "outputs": []
    },
    {
      "cell_type": "code",
      "source": [
        "import numpy as np\n",
        "import pandas as pd\n",
        "import matplotlib.pyplot as plt\n"
      ],
      "metadata": {
        "id": "3ta5W_iZgHwV"
      },
      "execution_count": null,
      "outputs": []
    },
    {
      "cell_type": "markdown",
      "source": [
        "**Q1**\n",
        "\n",
        "\tLook at the data given below. Plot the data, find the outliers and find out  μ,σ,σ^2\n",
        "\n",
        "Name of company\tMeasure X\n",
        "Allied Signal\t24.23%\n",
        "Bankers Trust\t25.53%\n",
        "General Mills\t25.41%\n",
        "ITT Industries\t24.14%\n",
        "J.P.Morgan & Co.\t29.62%\n",
        "Lehman Brothers\t28.25%\n",
        "Marriott\t25.81%\n",
        "MCI\t24.39%\n",
        "Merrill Lynch\t40.26%\n",
        "Microsoft\t32.95%\n",
        "Morgan Stanley\t91.36%\n",
        "Sun Microsystems\t25.99%\n",
        "Travelers\t39.42%\n",
        "US Airways\t26.71%\n",
        "Warner-Lambert\t35.00%\n",
        "\n",
        "\n"
      ],
      "metadata": {
        "id": "-bDe7PeMbJU8"
      }
    },
    {
      "cell_type": "code",
      "source": [
        "measure_x=pd.DataFrame([24.23,\n",
        "25.53,\n",
        "25.41,\n",
        "24.14,\n",
        "29.62,\n",
        "28.25,\n",
        "25.81,\n",
        "24.39,\n",
        "40.26,\n",
        "32.95,\n",
        "91.36,\n",
        "25.99,\n",
        "39.42,\n",
        "26.71,\n",
        "35.00])"
      ],
      "metadata": {
        "id": "SQk_xjXOgclR"
      },
      "execution_count": null,
      "outputs": []
    },
    {
      "cell_type": "code",
      "source": [
        "mean=measure_x.mean()\n",
        "std=measure_x.std()\n",
        "var=measure_x.var()\n",
        "median=measure_x.median()"
      ],
      "metadata": {
        "id": "oCuCdrNmglvH"
      },
      "execution_count": null,
      "outputs": []
    },
    {
      "cell_type": "code",
      "source": [
        "print(mean,median,var,std)"
      ],
      "metadata": {
        "colab": {
          "base_uri": "https://localhost:8080/"
        },
        "id": "WARHgj86gwNQ",
        "outputId": "91806f84-ae8f-49cc-db6e-da02032ab885"
      },
      "execution_count": null,
      "outputs": [
        {
          "output_type": "stream",
          "name": "stdout",
          "text": [
            "0    33.271333\n",
            "dtype: float64 0    26.71\n",
            "dtype: float64 0    287.146612\n",
            "dtype: float64 0    16.945401\n",
            "dtype: float64\n"
          ]
        }
      ]
    },
    {
      "cell_type": "code",
      "source": [
        "plt.figure(figsize=(10,10),facecolor=\"yellow\")\n",
        "plt.boxplot(measure_x)"
      ],
      "metadata": {
        "colab": {
          "base_uri": "https://localhost:8080/",
          "height": 731
        },
        "id": "QujhXFSZhj8r",
        "outputId": "ff832d3f-ff02-46ab-bcba-8bb599984de2"
      },
      "execution_count": null,
      "outputs": [
        {
          "output_type": "execute_result",
          "data": {
            "text/plain": [
              "{'whiskers': [<matplotlib.lines.Line2D at 0x7fafaaa5adc0>,\n",
              "  <matplotlib.lines.Line2D at 0x7fafaaa6d0d0>],\n",
              " 'caps': [<matplotlib.lines.Line2D at 0x7fafaaa6d3a0>,\n",
              "  <matplotlib.lines.Line2D at 0x7fafaaa6d670>],\n",
              " 'boxes': [<matplotlib.lines.Line2D at 0x7fafaaa5aaf0>],\n",
              " 'medians': [<matplotlib.lines.Line2D at 0x7fafaaa6d940>],\n",
              " 'fliers': [<matplotlib.lines.Line2D at 0x7fafaaa6dc10>],\n",
              " 'means': []}"
            ]
          },
          "metadata": {},
          "execution_count": 15
        },
        {
          "output_type": "display_data",
          "data": {
            "text/plain": [
              "<Figure size 720x720 with 1 Axes>"
            ],
            "image/png": "[encoded data removed]"
          },
          "metadata": {}
        }
      ]
    },
    {
      "cell_type": "code",
      "source": [
        "\n",
        "print(np.where((measure_x)>90))"
      ],
      "metadata": {
        "colab": {
          "base_uri": "https://localhost:8080/"
        },
        "id": "QT6DGo3jiaOE",
        "outputId": "324e1827-82b5-46f7-99f8-8581a557c60a"
      },
      "execution_count": null,
      "outputs": [
        {
          "output_type": "stream",
          "name": "stdout",
          "text": [
            "[(array([10]), array([0]))]\n"
          ]
        }
      ]
    },
    {
      "cell_type": "code",
      "source": [
        "measure_x.iloc[10]"
      ],
      "metadata": {
        "colab": {
          "base_uri": "https://localhost:8080/"
        },
        "id": "OfP9674ijUX5",
        "outputId": "978e9298-8c9e-44bd-f1fb-09d48cd4e682"
      },
      "execution_count": null,
      "outputs": [
        {
          "output_type": "execute_result",
          "data": {
            "text/plain": [
              "0    91.36\n",
              "Name: 10, dtype: float64"
            ]
          },
          "metadata": {},
          "execution_count": 24
        }
      ]
    },
    {
      "cell_type": "markdown",
      "source": [
        "# Ans\n",
        "outlier of the data set is 91.36 \n",
        "\n",
        "mean 33.271333 \n",
        "\n",
        "median    26.71\n",
        "\n",
        "var   287.146612\n",
        "\n",
        "std   16.945401\n"
      ],
      "metadata": {
        "id": "PSllRR-VlMPk"
      }
    },
    {
      "cell_type": "markdown",
      "source": [
        "# 2.\n",
        "Answer the following three questions based on the box-plot above.\n",
        "\n",
        "(i) What is inter-quartile range of this dataset? (please approximate the numbers) In one line, explain what this value implies.\n",
        "\n",
        "IQR=Q3-Q1=12-5=7 Interquartile range \n",
        "\n",
        "(ii) What can we say about the skewness of this dataset?\n",
        "\n",
        " Skewness of this Data is Right skewed because the Data concentrated more in left side so RHS will be Skewed.\n",
        "\n",
        "(iii) If it was found that the data point with the value 25 is actually 2.5, how would the new box-plot be affected?\n",
        "\n",
        "median will shit to left it will  decreased \n",
        "\n",
        "\n"
      ],
      "metadata": {
        "id": "fBvROsFpmUUr"
      }
    },
    {
      "cell_type": "markdown",
      "source": [
        "\n",
        "# 3.\n",
        "\n",
        "\n",
        "Answer the following three questions based on the histogram above.\n",
        "\n",
        "**(i) Where would the mode of this dataset lie?**\n",
        "\n",
        " its lie betwee 4 tp 8\n",
        " \n",
        "**(ii) Comment on the skewness of the dataset.**\n",
        "\n",
        "Its Right skewed because the maximum frequency came on LHS of the graph and mode and mean in LHS.\n",
        "\n",
        "\n",
        "(iii)** Suppose that the above histogram and the box-plot in question 2 are plotted for the same dataset. Explain how these graphs complement each other in providing information about any dataset.**\n",
        "\n",
        "as we can see  that data show  right skewed  it has outlier higher side of the data set so that  of the dataset also show in the left shift and one outlier data set has one outlier \n",
        "\n",
        "\n",
        "\n",
        "\n"
      ],
      "metadata": {
        "id": "HUY8QNhYnfQB"
      }
    },
    {
      "cell_type": "markdown",
      "source": [
        "\n",
        "# 4.AT&T was running commercials in 1990 aimed at luring back customers who had switched to one of the other long-distance phone service providers. One such commercial shows a businessman trying to reach Phoenix and mistakenly getting Fiji, where a half-naked native on a beach responds incomprehensibly in Polynesian. When asked about this advertisement, AT&T admitted that the portrayed incident did not actually take place but added that this was an enactment of something that “could happen.” Suppose that one in 200 long-distance telephone calls is misdirected. What is the probability that at least one in five attempted telephone calls reaches the wrong number? (Assume independence of attempts.)\n",
        "\n",
        "\n",
        "\n"
      ],
      "metadata": {
        "id": "HwxAk-typ5Sw"
      }
    },
    {
      "cell_type": "code",
      "source": [
        "(1/5)*(1/200)"
      ],
      "metadata": {
        "colab": {
          "base_uri": "https://localhost:8080/"
        },
        "id": "WrnFvnf2rRXs",
        "outputId": "7852f03e-75ca-42dc-8c85-21dfa540ec00"
      },
      "execution_count": null,
      "outputs": [
        {
          "output_type": "execute_result",
          "data": {
            "text/plain": [
              "0.001"
            ]
          },
          "metadata": {},
          "execution_count": 25
        }
      ]
    },
    {
      "cell_type": "markdown",
      "source": [
        "probabilty is 1 %  at least one in five attempted telephone calls reaches the wrong number"
      ],
      "metadata": {
        "id": "IMXiUYEWrYjE"
      }
    },
    {
      "cell_type": "markdown",
      "source": [
        "\n",
        "# 5.\t**Returns on a certain business venture, to the nearest $1,000, are known to follow the following probability distribution**\n",
        "x\tP(x) \n",
        "-2,000\t0.1\n",
        "-1,000\t0.1\n",
        "0\t0.2\n",
        "1000\t0.2\n",
        "2000\t0.3\n",
        "3000\t0.1\n",
        "\n",
        "(i)\tWhat is the most likely monetary outcome of the business venture?\n",
        "\n",
        "2000 p(x) 0.3\n",
        "\n",
        "(ii)\tIs the venture likely to be successful? Explain\n",
        "\n",
        "venture will sucessseful  when x wiil be postive  so that sum of the probabilty is 0.6 and its is greter than 0.5 so that it will successful\n",
        "\n",
        "(iii)\tWhat is the long-term average earning of business ventures of this kind? Explain\n",
        "\n",
        "longterm veture is sum of expected values =E(X) = (-2000)(0.1) + (-1000)(0.1) + (0)(0.2) + (1000)(0.2) + (2000)(0.3) + (3000)(0.1)\n",
        "= -200 - 100 + 0 + 200 + 600 + 300\n",
        "= 800\n",
        "\n",
        "so that long term venture is  800\n",
        "\n",
        "(iv)\tWhat is the good measure of the risk involved in a venture of this kind? Compute this measure.\n",
        "\n",
        "Var(X) = (-2000 - 800)^2(0.1) + (-1000 - 800)^2(0.1) + (0 - 800)^2(0.2) + (1000 - 800)^2(0.2) + (2000 - 800)^2(0.3) + (3000 - 800)^2(0.1)\n",
        "= 696000\n",
        "\n",
        "SD(X) = sqrt(Var(X))\n",
        "= sqrt(696000)\n",
        "≈ 834.4\n",
        " \n",
        " standard deviation is 834.4 so  that it is moderate only so that risk also moderate"
      ],
      "metadata": {
        "id": "TWcOl_pEstXP"
      }
    },
    {
      "cell_type": "code",
      "source": [],
      "metadata": {
        "id": "nis58qbDsr63"
      },
      "execution_count": null,
      "outputs": []
    }
  ]
}